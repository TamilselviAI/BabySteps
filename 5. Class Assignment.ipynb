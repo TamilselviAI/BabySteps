{
 "cells": [
  {
   "cell_type": "code",
   "execution_count": null,
   "id": "6d647d54-10e3-411f-be1b-8683d3413f4c",
   "metadata": {},
   "outputs": [],
   "source": [
    "def add(a,b):\n",
    "    addition=a+b\n",
    "    return addition"
   ]
  },
  {
   "cell_type": "code",
   "execution_count": null,
   "id": "69425ca4-493b-4832-986d-910408f39459",
   "metadata": {
    "scrolled": true
   },
   "outputs": [],
   "source": [
    "# Create a class and function, and list out the items in the list\n",
    "\n",
    "def Agecate():\n",
    "    if (age < 18):\n",
    "        print(\"Minor\")\n",
    "        \n",
    "    elif (18 < age < 60):\n",
    "        cate =\"Adult\"\n",
    "    else:\n",
    "        cate =\"Senior Citizen\"\n",
    "    "
   ]
  },
  {
   "cell_type": "code",
   "execution_count": null,
   "id": "5bb8be05-051f-4b58-8ba6-accd545a55b2",
   "metadata": {},
   "outputs": [],
   "source": [
    "age = int(input(\"Enter Age :\" ))\n",
    "agecategory= Agecate()"
   ]
  },
  {
   "cell_type": "code",
   "execution_count": null,
   "id": "34ed4a4c-ad14-4c3c-821f-b851eab11baa",
   "metadata": {},
   "outputs": [],
   "source": [
    "def Subfields():\n",
    "    fields = [\"Machine Learning\",\"Neural Networks\",\"Vision\",\"Robotics\",\"Speech Processing\",\"Natural Language Processing\"]\n",
    "    for SubfieldsInAI in fields:\n",
    "        print(SubfieldsInAI)   \n",
    "    return Subfields"
   ]
  },
  {
   "cell_type": "code",
   "execution_count": null,
   "id": "00a42e59-6f09-4dec-afeb-df7a51d894d8",
   "metadata": {},
   "outputs": [],
   "source": [
    "print(\"Sub-fields in AI are: \")\n",
    "flds = Subfields()"
   ]
  },
  {
   "cell_type": "code",
   "execution_count": null,
   "id": "baea5f95-7ae4-4d39-a448-e20dc40604f7",
   "metadata": {},
   "outputs": [],
   "source": [
    "# Create a function that checks whether the given number is Odd or Even\n",
    "def oddeven():\n",
    "    num = int(input(\"Enter a number: \"))\n",
    "    if ((num % 2 == 0)):\n",
    "        print(num,\" is Even number \")\n",
    "        message = num,\" is Even number \"\n",
    "    else:\n",
    "        print(num,\" is Odd number \")\n",
    "        message = num,\" is Odd number \"\n",
    "    return message"
   ]
  },
  {
   "cell_type": "code",
   "execution_count": null,
   "id": "5c34df7e-1279-4dc8-8e0b-fe14a65a0a2b",
   "metadata": {},
   "outputs": [],
   "source": [
    "message=oddeven()"
   ]
  },
  {
   "cell_type": "code",
   "execution_count": null,
   "id": "fa6e93da-b166-4c55-9655-514ed00d8779",
   "metadata": {},
   "outputs": [],
   "source": [
    "# Create a function that tells elegibility of marriage for male and female according to their age limit like 21 for male and 18 for female\n",
    "def marriage():\n",
    "    gender=input(\"Enter Your Gender: \")\n",
    "    age =int(input(\" Your Age: \"))\n",
    "    if((age>21) and (gender ==\"male\")):\n",
    "        print(\"ELIGIBLE\")\n",
    "        mrg=\"ELIGIBLE\"\n",
    "    elif((age>18) and (gender==\"female\")):\n",
    "        print(\"ELIGIBLE\")\n",
    "        mrg=\"ELIGIBLE\"\n",
    "    else:\n",
    "        print(\"NOT ELIGIBLE\") \n",
    "        mrg=\"NOT ELIGIBLE\"\n",
    "    return mrg"
   ]
  },
  {
   "cell_type": "code",
   "execution_count": null,
   "id": "5839c5b4-dbdf-475e-8e6d-5c3a296e2077",
   "metadata": {},
   "outputs": [],
   "source": [
    "eligiblity=marriage()"
   ]
  },
  {
   "cell_type": "code",
   "execution_count": null,
   "id": "af994a92-4eb0-48f4-93d4-926be68b6c70",
   "metadata": {},
   "outputs": [],
   "source": [
    "# calculate the percentage of your 10th mark \n",
    "def percentage():\n",
    "    subject1= float(input(\"Subject1= \")),\n",
    "    subject2= float(input(\"Subject2= \")) ,           \n",
    "    subject3= float(input(\"Subject3= \")),\n",
    "    subject4= float(input(\"Subject4= \")),\n",
    "    subject5= float(input(\"Subject5= \")),\n",
    "    total = sum(subject1+subject2+subject3+subject4+subject5)\n",
    "    percentage= float(total / 5)\n",
    "    print(\"Total = \", total)\n",
    "    print(\"Percentage : \",percentage)\n",
    "    return percentage\n"
   ]
  },
  {
   "cell_type": "code",
   "execution_count": null,
   "id": "de115aa4-5258-4edb-93ec-18bbaaf36d53",
   "metadata": {},
   "outputs": [],
   "source": [
    "FindPercent = percentage()"
   ]
  },
  {
   "cell_type": "code",
   "execution_count": 2,
   "id": "6e54ac99-7808-4d09-9cac-c293fefc08b3",
   "metadata": {},
   "outputs": [],
   "source": [
    "#print area and perimeter of triangle using class and functions \n",
    "def triangle():\n",
    "    height=float(input(\"Height: \"))\n",
    "    breadth=float(input(\"Breadth: \"))\n",
    "    area= float((height*breadth)/2)\n",
    "    print(\"Area of Triangle:  \", area)\n",
    "    height1=float(input(\"Height 1: \")),\n",
    "    height2=float(input(\"Height 2: \")),\n",
    "    breadth1=float(input(\"Breadth 1: \")),\n",
    "    perimeter = sum(height1+height2+breadth1) \n",
    "    print(\"Perimeter formula: Height1+Height2+Breadth1\")\n",
    "    print(\"Perimeter of Triangle:  \",perimeter)\n",
    "    print(\"Area of Triangle:  \", area)\n",
    "    return triangle"
   ]
  },
  {
   "cell_type": "code",
   "execution_count": 3,
   "id": "dc58a354-5f77-4f87-9f62-1da0658f76fb",
   "metadata": {},
   "outputs": [
    {
     "name": "stdin",
     "output_type": "stream",
     "text": [
      "Height:  89\n",
      "Breadth:  56\n"
     ]
    },
    {
     "name": "stdout",
     "output_type": "stream",
     "text": [
      "Area of Triangle:   2492.0\n"
     ]
    },
    {
     "name": "stdin",
     "output_type": "stream",
     "text": [
      "Height 1:  6\n",
      "Height 2:  6\n",
      "Breadth 1:  51\n"
     ]
    },
    {
     "name": "stdout",
     "output_type": "stream",
     "text": [
      "Perimeter formula: Height1+Height2+Breadth1\n",
      "Perimeter of Triangle:   63.0\n",
      "Area of Triangle:   2492.0\n"
     ]
    }
   ],
   "source": [
    "Triangles= triangle()"
   ]
  },
  {
   "cell_type": "code",
   "execution_count": 19,
   "id": "15f4c8c1-b48d-41fe-a400-e59822122866",
   "metadata": {},
   "outputs": [],
   "source": [
    "class multiplefunction():\n",
    "    def Subfields():\n",
    "        fields = [\"Machine Learning\",\"Neural Networks\",\"Vision\",\"Robotics\",\"Speech Processing\",\"Natural Language Processing\"]\n",
    "        print(\"Sub-fields in AI are: \")\n",
    "        for SubfieldsInAI in fields:\n",
    "            print(SubfieldsInAI)\n",
    "        return Subfields\n",
    "    def oddeven():\n",
    "        num = int(input(\"Enter a number: \"))\n",
    "        if ((num % 2 == 0)):\n",
    "            print(num,\" is Even number \")\n",
    "            message = num,\" is Even number \"\n",
    "        else:\n",
    "            print(num,\" is Odd number \")\n",
    "            message = num,\" is Odd number \"\n",
    "        return message\n",
    "    def marriage():\n",
    "        gender=input(\"Enter Your Gender: \")\n",
    "        age =int(input(\" Your Age: \"))\n",
    "        if((age>21) and (gender ==\"male\")):\n",
    "            print(\"ELIGIBLE\")\n",
    "            mrg=\"ELIGIBLE\"\n",
    "        elif((age>18) and (gender==\"female\")):\n",
    "            print(\"ELIGIBLE\")\n",
    "            mrg=\"ELIGIBLE\"\n",
    "        else:\n",
    "            print(\"NOT ELIGIBLE\") \n",
    "            mrg=\"NOT ELIGIBLE\"\n",
    "        return mrg\n",
    "    def percentage():\n",
    "        subject1= float(input(\"Subject1= \")),\n",
    "        subject2= float(input(\"Subject2= \")) ,           \n",
    "        subject3= float(input(\"Subject3= \")),\n",
    "        subject4= float(input(\"Subject4= \")),\n",
    "        subject5= float(input(\"Subject5= \")),\n",
    "        total = sum(subject1+subject2+subject3+subject4+subject5)\n",
    "        percentage= float(total / 5)\n",
    "        print(\"Total = \", total)\n",
    "        print(\"Percentage : \",percentage)\n",
    "        return percentage\n",
    "    def triangle():\n",
    "        height=float(input(\"Height: \"))\n",
    "        breadth=float(input(\"Breadth: \"))\n",
    "        area= float((height*breadth)/2)\n",
    "        print(\"Area of Triangle:  \", area)\n",
    "        height1=float(input(\"Height 1: \")),\n",
    "        height2=float(input(\"Height 2: \")),\n",
    "        breadth1=float(input(\"Breadth 1: \")),\n",
    "        perimeter = sum(height1+height2+breadth1) \n",
    "        print(\"Perimeter formula: Height1+Height2+Breadth1\")\n",
    "        print(\"Perimeter of Triangle:  \",perimeter)\n",
    "        print(\"Area of Triangle:  \", area)\n",
    "        return triangle"
   ]
  },
  {
   "cell_type": "code",
   "execution_count": 21,
   "id": "9c6eccae-28a1-4ca4-8d89-9ca3d67ba3fe",
   "metadata": {},
   "outputs": [
    {
     "name": "stdout",
     "output_type": "stream",
     "text": [
      "Sub-fields in AI are: \n",
      "Machine Learning\n",
      "Neural Networks\n",
      "Vision\n",
      "Robotics\n",
      "Speech Processing\n",
      "Natural Language Processing\n"
     ]
    },
    {
     "ename": "NameError",
     "evalue": "name 'Subfields' is not defined",
     "output_type": "error",
     "traceback": [
      "\u001b[1;31m---------------------------------------------------------------------------\u001b[0m",
      "\u001b[1;31mNameError\u001b[0m                                 Traceback (most recent call last)",
      "Cell \u001b[1;32mIn[21], line 1\u001b[0m\n\u001b[1;32m----> 1\u001b[0m multiplefunction\u001b[38;5;241m.\u001b[39mSubfields()\n",
      "Cell \u001b[1;32mIn[19], line 7\u001b[0m, in \u001b[0;36mmultiplefunction.Subfields\u001b[1;34m()\u001b[0m\n\u001b[0;32m      5\u001b[0m \u001b[38;5;28;01mfor\u001b[39;00m SubfieldsInAI \u001b[38;5;129;01min\u001b[39;00m fields:\n\u001b[0;32m      6\u001b[0m     \u001b[38;5;28mprint\u001b[39m(SubfieldsInAI)\n\u001b[1;32m----> 7\u001b[0m \u001b[38;5;28;01mreturn\u001b[39;00m Subfields\n",
      "\u001b[1;31mNameError\u001b[0m: name 'Subfields' is not defined"
     ]
    }
   ],
   "source": [
    "multiplefunction.Subfields()"
   ]
  },
  {
   "cell_type": "code",
   "execution_count": 6,
   "id": "ddae0513-f660-4a4d-bfb8-c1a7d6f59295",
   "metadata": {},
   "outputs": [
    {
     "name": "stdin",
     "output_type": "stream",
     "text": [
      "Enter a number:  78\n"
     ]
    },
    {
     "name": "stdout",
     "output_type": "stream",
     "text": [
      "78  is Even number \n"
     ]
    },
    {
     "data": {
      "text/plain": [
       "(78, ' is Even number ')"
      ]
     },
     "execution_count": 6,
     "metadata": {},
     "output_type": "execute_result"
    }
   ],
   "source": [
    "multiplefunction.oddeven()    "
   ]
  },
  {
   "cell_type": "code",
   "execution_count": 7,
   "id": "d0054133-ce85-40c3-9f9b-938892d4fbbb",
   "metadata": {},
   "outputs": [
    {
     "name": "stdin",
     "output_type": "stream",
     "text": [
      "Enter Your Gender:  male\n",
      " Your Age:  5\n"
     ]
    },
    {
     "name": "stdout",
     "output_type": "stream",
     "text": [
      "NOT ELIGIBLE\n"
     ]
    },
    {
     "data": {
      "text/plain": [
       "'NOT ELIGIBLE'"
      ]
     },
     "execution_count": 7,
     "metadata": {},
     "output_type": "execute_result"
    }
   ],
   "source": [
    "multiplefunction.marriage()"
   ]
  },
  {
   "cell_type": "code",
   "execution_count": 9,
   "id": "cc875409-0f24-4c31-96a6-70d243ea78b7",
   "metadata": {},
   "outputs": [
    {
     "name": "stdin",
     "output_type": "stream",
     "text": [
      "Subject1=  78\n",
      "Subject2=  36\n",
      "Subject3=  56\n",
      "Subject4=  89\n",
      "Subject5=  54\n"
     ]
    },
    {
     "name": "stdout",
     "output_type": "stream",
     "text": [
      "Total =  313.0\n",
      "Percentage :  62.6\n"
     ]
    },
    {
     "data": {
      "text/plain": [
       "62.6"
      ]
     },
     "execution_count": 9,
     "metadata": {},
     "output_type": "execute_result"
    }
   ],
   "source": [
    "multiplefunction.percentage()"
   ]
  },
  {
   "cell_type": "code",
   "execution_count": 10,
   "id": "b80c6edc-01c8-4bbc-a0c3-099b773d0786",
   "metadata": {},
   "outputs": [
    {
     "name": "stdin",
     "output_type": "stream",
     "text": [
      "Height:  78\n",
      "Breadth:  8\n"
     ]
    },
    {
     "name": "stdout",
     "output_type": "stream",
     "text": [
      "Area of Triangle:   312.0\n"
     ]
    },
    {
     "name": "stdin",
     "output_type": "stream",
     "text": [
      "Height 1:  6\n",
      "Height 2:  65\n",
      "Breadth 1:  646\n"
     ]
    },
    {
     "name": "stdout",
     "output_type": "stream",
     "text": [
      "Perimeter formula: Height1+Height2+Breadth1\n",
      "Perimeter of Triangle:   717.0\n",
      "Area of Triangle:   312.0\n"
     ]
    },
    {
     "data": {
      "text/plain": [
       "<function __main__.triangle()>"
      ]
     },
     "execution_count": 10,
     "metadata": {},
     "output_type": "execute_result"
    }
   ],
   "source": [
    "multiplefunction.triangle()"
   ]
  },
  {
   "cell_type": "code",
   "execution_count": null,
   "id": "a88b8e6b-cb60-4efb-8e65-abcbb93de409",
   "metadata": {},
   "outputs": [],
   "source": []
  }
 ],
 "metadata": {
  "kernelspec": {
   "display_name": "Python 3 (ipykernel)",
   "language": "python",
   "name": "python3"
  },
  "language_info": {
   "codemirror_mode": {
    "name": "ipython",
    "version": 3
   },
   "file_extension": ".py",
   "mimetype": "text/x-python",
   "name": "python",
   "nbconvert_exporter": "python",
   "pygments_lexer": "ipython3",
   "version": "3.12.7"
  }
 },
 "nbformat": 4,
 "nbformat_minor": 5
}
