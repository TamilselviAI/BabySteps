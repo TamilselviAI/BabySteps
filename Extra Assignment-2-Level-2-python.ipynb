{
 "cells": [
  {
   "cell_type": "code",
   "execution_count": null,
   "id": "2ea32495-1233-41ab-97ad-d977a4eb6b94",
   "metadata": {},
   "outputs": [],
   "source": [
    "# print 0 to 20 by using range\n",
    "for num in range(0,20):\n",
    "    print(num)"
   ]
  },
  {
   "cell_type": "code",
   "execution_count": null,
   "id": "235be79d-83fb-478c-9edd-99985cbc6a4a",
   "metadata": {},
   "outputs": [],
   "source": [
    "# print 10 to 20 by using range\n",
    "for num in range(10,20):\n",
    "    print(num)"
   ]
  },
  {
   "cell_type": "code",
   "execution_count": 3,
   "id": "27194964-3379-472b-b09b-cc7f9ab32b97",
   "metadata": {},
   "outputs": [
    {
     "name": "stdout",
     "output_type": "stream",
     "text": [
      "[10, 20, 14, 55, 43, 87, 76]\n",
      "Number of item in the List2:  7\n"
     ]
    }
   ],
   "source": [
    "# Print number of items in the list by using 'len'   -- doubt in the question\n",
    "num=[10, 20, 14, 55, 43, 87, 76]\n",
    "print(num)\n",
    "length = len(num)\n",
    "print(\"Number of item in the List2: \",length)\n"
   ]
  },
  {
   "cell_type": "code",
   "execution_count": null,
   "id": "efe8f117-d9ef-4afc-b2ad-c3c2ebeb5adb",
   "metadata": {},
   "outputs": [],
   "source": []
  },
  {
   "cell_type": "code",
   "execution_count": null,
   "id": "6eb9e849-0c3d-40e6-aee7-c65670cc9827",
   "metadata": {},
   "outputs": [],
   "source": [
    "#Artificial Intelligence  - DOubt\n",
    "text = \"Artificial Intelligence\"\n",
    "for list in text:\n",
    "    print(list)"
   ]
  },
  {
   "cell_type": "code",
   "execution_count": null,
   "id": "1d09b962-71b7-43a8-a33a-615f038ddad1",
   "metadata": {},
   "outputs": [],
   "source": [
    "a=\"-Your Name-\" \n",
    "b=\"-Your Age-\"\n",
    "c=\"-Your Profession-\"\n",
    "print(a)\n",
    "print(b)\n",
    "print(c)"
   ]
  },
  {
   "cell_type": "code",
   "execution_count": null,
   "id": "207756ad-f035-4481-ab99-3fa51f061c11",
   "metadata": {},
   "outputs": [],
   "source": [
    "# Print this mixered datatype using Tuples\n",
    "text=(1, 'Welcome', 2, 'Hope')\n",
    "print (tuple(text))"
   ]
  },
  {
   "cell_type": "code",
   "execution_count": null,
   "id": "6d105ed8-0bf3-434c-b317-ef5127ab630e",
   "metadata": {},
   "outputs": [],
   "source": [
    "# Refer this link : https://www.geeksforgeeks.org/python-tuples/\n",
    "Tuple1 = (0, 1, 2, 3)\n",
    "Tuple2 = ('python', 'HOPE')\n",
    "print((Tuple1,Tuple2))"
   ]
  },
  {
   "cell_type": "code",
   "execution_count": 16,
   "id": "1d861959-6191-4cee-b2a0-51dbab581517",
   "metadata": {},
   "outputs": [
    {
     "name": "stdout",
     "output_type": "stream",
     "text": [
      "(20, 10, 16, 19, 25, 1, 276, 188)\n",
      "19  is odd\n",
      "25  is odd\n",
      "1  is odd\n"
     ]
    }
   ],
   "source": [
    "# print Odd Numbers in the list\n",
    "list=(20,10,16,19,25,1,276,188)\n",
    "print (list)\n",
    "for num in list:\n",
    "    if num % 2 != 0:\n",
    "        print(num, \" is odd\")\n"
   ]
  },
  {
   "cell_type": "code",
   "execution_count": 17,
   "id": "6e5f4e22-eb8b-4692-bfc6-9a52ff606cc2",
   "metadata": {},
   "outputs": [
    {
     "name": "stdout",
     "output_type": "stream",
     "text": [
      "(20, 10, 16, 19, 25, 1, 276, 188)\n",
      "20  is Even\n",
      "10  is Even\n",
      "16  is Even\n",
      "276  is Even\n",
      "188  is Even\n"
     ]
    }
   ],
   "source": [
    "# print Even Numbers in the list\n",
    "list=(20,10,16,19,25,1,276,188)\n",
    "print (list)\n",
    "for num in list:\n",
    "    if num % 2 == 0:\n",
    "        print(num, \" is Even\")"
   ]
  },
  {
   "cell_type": "code",
   "execution_count": null,
   "id": "d81fe422-d3d9-4c71-a5cf-e26403258fc1",
   "metadata": {},
   "outputs": [],
   "source": []
  }
 ],
 "metadata": {
  "kernelspec": {
   "display_name": "Python 3 (ipykernel)",
   "language": "python",
   "name": "python3"
  },
  "language_info": {
   "codemirror_mode": {
    "name": "ipython",
    "version": 3
   },
   "file_extension": ".py",
   "mimetype": "text/x-python",
   "name": "python",
   "nbconvert_exporter": "python",
   "pygments_lexer": "ipython3",
   "version": "3.12.7"
  }
 },
 "nbformat": 4,
 "nbformat_minor": 5
}
