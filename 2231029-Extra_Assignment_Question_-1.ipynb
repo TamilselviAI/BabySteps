{
 "cells": [
  {
   "cell_type": "code",
   "execution_count": 5,
   "id": "5943528c-e353-4169-bf06-eb647e4036b2",
   "metadata": {},
   "outputs": [
    {
     "name": "stdout",
     "output_type": "stream",
     "text": [
      "HOPE AI\n"
     ]
    }
   ],
   "source": [
    "#print Statement\n",
    "print (\"HOPE AI\")"
   ]
  },
  {
   "cell_type": "code",
   "execution_count": 7,
   "id": "339c1312-95a5-43e9-bf9b-068b34f80594",
   "metadata": {},
   "outputs": [
    {
     "name": "stdin",
     "output_type": "stream",
     "text": [
      "Enter your institute name? : HOPE AI\n"
     ]
    },
    {
     "name": "stdout",
     "output_type": "stream",
     "text": [
      "HOPE AI\n"
     ]
    }
   ],
   "source": [
    "# Buy input\n",
    "inst = input(\"Enter your institute name? :\")\n",
    "print (inst)"
   ]
  },
  {
   "cell_type": "code",
   "execution_count": 14,
   "id": "4373d038-310e-4ee3-aa8a-ed9f7d051af5",
   "metadata": {},
   "outputs": [
    {
     "name": "stdin",
     "output_type": "stream",
     "text": [
      "name:  fh\n",
      "age:  2\n",
      "school name:  fg\n",
      "degree:  g\n"
     ]
    },
    {
     "name": "stdout",
     "output_type": "stream",
     "text": [
      "Enter your name:  fh\n",
      "Enter your age:  2\n",
      "Enter your school name:  fg\n",
      "Enter your degree:  g\n"
     ]
    }
   ],
   "source": [
    "#Buy inputs\n",
    "name=input(\"name: \")\n",
    "age=int(input(\"age: \"))\n",
    "scl=input(\"school name: \")\n",
    "dgr=input(\"degree: \")\n",
    "print (\"Enter your name: \",name)\n",
    "print(\"Enter your age: \",age)\n",
    "print(\"Enter your school name: \",scl)\n",
    "print(\"Enter your degree: \",dgr)"
   ]
  },
  {
   "cell_type": "code",
   "execution_count": 16,
   "id": "513b268a-879c-4162-aacd-b7d49413d980",
   "metadata": {},
   "outputs": [
    {
     "name": "stdin",
     "output_type": "stream",
     "text": [
      "a=  2\n",
      "b=  4\n"
     ]
    },
    {
     "name": "stdout",
     "output_type": "stream",
     "text": [
      "add =  6\n"
     ]
    }
   ],
   "source": [
    "#Addition\n",
    "a= int(input(\"a= \"))\n",
    "b= int(input(\"b= \"))\n",
    "print(\"add = \", a+b) "
   ]
  },
  {
   "cell_type": "code",
   "execution_count": 18,
   "id": "2daa7c6b-4a79-495a-b3fe-72b90e4024ed",
   "metadata": {},
   "outputs": [
    {
     "name": "stdin",
     "output_type": "stream",
     "text": [
      "a=  34\n",
      "b=  1\n"
     ]
    },
    {
     "name": "stdout",
     "output_type": "stream",
     "text": [
      "Sub =  33\n"
     ]
    }
   ],
   "source": [
    "#Subtraction\n",
    "a= int(input(\"a= \"))\n",
    "b= int(input(\"b= \"))\n",
    "sub = a-b\n",
    "print(\"Sub = \",sub)"
   ]
  },
  {
   "cell_type": "code",
   "execution_count": 19,
   "id": "e59f9760-d061-4fa6-9c5f-0b96f4d0709a",
   "metadata": {},
   "outputs": [
    {
     "name": "stdin",
     "output_type": "stream",
     "text": [
      "a=  76\n",
      "b=  31\n"
     ]
    },
    {
     "name": "stdout",
     "output_type": "stream",
     "text": [
      "Mul =  2356\n"
     ]
    }
   ],
   "source": [
    "#Multiplication\n",
    "a= int(input(\"a= \"))\n",
    "b= int(input(\"b= \"))\n",
    "mul = a*b\n",
    "print(\"Mul = \",mul)"
   ]
  },
  {
   "cell_type": "code",
   "execution_count": 20,
   "id": "1ff1f55d-c843-4a9f-9660-d8916fd182fa",
   "metadata": {},
   "outputs": [
    {
     "name": "stdin",
     "output_type": "stream",
     "text": [
      "a=  45\n",
      "b=  21\n"
     ]
    },
    {
     "name": "stdout",
     "output_type": "stream",
     "text": [
      "Float Div =  2.142857142857143\n"
     ]
    }
   ],
   "source": [
    "#Division\n",
    "a= int(input(\"a= \"))\n",
    "b= int(input(\"b= \"))\n",
    "div =float(a/b)\n",
    "print(\"Float Div = \",div)"
   ]
  },
  {
   "cell_type": "code",
   "execution_count": 22,
   "id": "c77fba15-e4fd-48b5-b5af-7dbbde805c17",
   "metadata": {},
   "outputs": [
    {
     "name": "stdin",
     "output_type": "stream",
     "text": [
      "a=  76\n",
      "b=  31\n"
     ]
    },
    {
     "name": "stdout",
     "output_type": "stream",
     "text": [
      "Floor Div =  2\n"
     ]
    }
   ],
   "source": [
    "# Floor Division\n",
    "a= int(input(\"a= \"))\n",
    "b= int(input(\"b= \"))\n",
    "div =int(a/b)\n",
    "print(\"Floor Div = \",div)"
   ]
  },
  {
   "cell_type": "code",
   "execution_count": 24,
   "id": "de1e79a7-924e-43fe-9523-30628fd27802",
   "metadata": {},
   "outputs": [
    {
     "name": "stdin",
     "output_type": "stream",
     "text": [
      "a=  76\n",
      "b=  31\n"
     ]
    },
    {
     "name": "stdout",
     "output_type": "stream",
     "text": [
      "Modulo =  14\n"
     ]
    }
   ],
   "source": [
    "#Modulo\n",
    "a= int(input(\"a= \"))\n",
    "b= int(input(\"b= \"))\n",
    "mod = a%b\n",
    "print(\"Modulo = \",mod)"
   ]
  },
  {
   "cell_type": "code",
   "execution_count": 25,
   "id": "2b05e759-3c12-42e2-bb43-6cda506bd62e",
   "metadata": {},
   "outputs": [
    {
     "name": "stdin",
     "output_type": "stream",
     "text": [
      "a=  4\n",
      "b=  4\n"
     ]
    },
    {
     "name": "stdout",
     "output_type": "stream",
     "text": [
      "Power =  256\n"
     ]
    }
   ],
   "source": [
    "#Power\n",
    "a= int(input(\"a= \"))\n",
    "b= int(input(\"b= \"))\n",
    "power = pow(a,b)\n",
    "print(\"Power = \", power)"
   ]
  },
  {
   "cell_type": "code",
   "execution_count": null,
   "id": "f9dbaf72-3154-4580-b601-5e4819db6a39",
   "metadata": {},
   "outputs": [],
   "source": []
  }
 ],
 "metadata": {
  "kernelspec": {
   "display_name": "Python 3 (ipykernel)",
   "language": "python",
   "name": "python3"
  },
  "language_info": {
   "codemirror_mode": {
    "name": "ipython",
    "version": 3
   },
   "file_extension": ".py",
   "mimetype": "text/x-python",
   "name": "python",
   "nbconvert_exporter": "python",
   "pygments_lexer": "ipython3",
   "version": "3.12.7"
  }
 },
 "nbformat": 4,
 "nbformat_minor": 5
}
