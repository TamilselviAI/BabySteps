{
 "cells": [
  {
   "cell_type": "code",
   "execution_count": 12,
   "id": "69425ca4-493b-4832-986d-910408f39459",
   "metadata": {},
   "outputs": [
    {
     "name": "stdout",
     "output_type": "stream",
     "text": [
      "value:  10\n",
      "correct\n"
     ]
    }
   ],
   "source": [
    "# print 'CORRECT' if i == 10\n",
    "i=10\n",
    "print(\"value: \", i)\n",
    "if (i == 10):\n",
    "    print (\"correct\")"
   ]
  },
  {
   "cell_type": "code",
   "execution_count": 11,
   "id": "296a524e-80b5-46e3-af14-43f603d6803f",
   "metadata": {},
   "outputs": [
    {
     "name": "stdin",
     "output_type": "stream",
     "text": [
      "Enter the password:  HOPE@123\n"
     ]
    },
    {
     "name": "stdout",
     "output_type": "stream",
     "text": [
      "correct\n"
     ]
    }
   ],
   "source": [
    "# Check the password, using if and else\n",
    "\n",
    "pwd=\"HOPE@123\"\n",
    "enter_pwd = input(\"Enter the password: \")\n",
    "if (enter_pwd == pwd):\n",
    "    print (\"correct\")\n",
    "else:\n",
    "    print(\"Incorrect password\")\n"
   ]
  },
  {
   "cell_type": "code",
   "execution_count": 2,
   "id": "0d00cb39-dbd3-47ba-b644-dc89694b98f6",
   "metadata": {},
   "outputs": [
    {
     "name": "stdin",
     "output_type": "stream",
     "text": [
      "age :  20\n"
     ]
    },
    {
     "name": "stdout",
     "output_type": "stream",
     "text": [
      "Adult\n"
     ]
    }
   ],
   "source": [
    "# Catagory the people by their age like children, adult, citizen, senior citizen..\n",
    "\n",
    "age =int(input(\"age : \"))\n",
    "if (age < 18):\n",
    "    print(\"Minor\")\n",
    "elif (18 < age < 60):\n",
    "    print(\"Adult\")\n",
    "else:\n",
    "    print(\"Senior Citizen\")\n"
   ]
  },
  {
   "cell_type": "code",
   "execution_count": 6,
   "id": "871aa468-5022-408b-b109-03a5368522a2",
   "metadata": {},
   "outputs": [
    {
     "name": "stdin",
     "output_type": "stream",
     "text": [
      "Enter any number:  1\n"
     ]
    },
    {
     "name": "stdout",
     "output_type": "stream",
     "text": [
      "No is positive\n"
     ]
    }
   ],
   "source": [
    "# Find whether given number is positive or negative\n",
    "\n",
    "num= float(input(\"Enter any number: \"))\n",
    "if (num > 0):\n",
    "    print(\"No is positive\")\n",
    "elif (num < 0):\n",
    "    print(\"No is Negative\")\n",
    "else:\n",
    "    print(\"Zero\")"
   ]
  },
  {
   "cell_type": "code",
   "execution_count": 10,
   "id": "26b8b085-8c1f-466d-be42-96c3a358a6bb",
   "metadata": {},
   "outputs": [
    {
     "name": "stdin",
     "output_type": "stream",
     "text": [
      "Enter a number to check:  22\n"
     ]
    },
    {
     "name": "stdout",
     "output_type": "stream",
     "text": [
      "No is not divisible by 5\n"
     ]
    }
   ],
   "source": [
    "# Check whether the given number is divisible by 5\n",
    "\n",
    "num =int (input(\"Enter a number to check: \"))\n",
    "if (num % 5 == 0):\n",
    "    print(\"No is divisible by 5\")\n",
    "else:\n",
    "    print(\"No is not divisible by 5\")"
   ]
  },
  {
   "cell_type": "code",
   "execution_count": null,
   "id": "b71f4671-2cd5-4769-89ed-cfa131fe7686",
   "metadata": {},
   "outputs": [],
   "source": []
  },
  {
   "cell_type": "code",
   "execution_count": null,
   "id": "a4cb8b23-eb89-40b2-b6ef-bcae10301f17",
   "metadata": {},
   "outputs": [],
   "source": []
  }
 ],
 "metadata": {
  "kernelspec": {
   "display_name": "Python 3 (ipykernel)",
   "language": "python",
   "name": "python3"
  },
  "language_info": {
   "codemirror_mode": {
    "name": "ipython",
    "version": 3
   },
   "file_extension": ".py",
   "mimetype": "text/x-python",
   "name": "python",
   "nbconvert_exporter": "python",
   "pygments_lexer": "ipython3",
   "version": "3.12.7"
  }
 },
 "nbformat": 4,
 "nbformat_minor": 5
}
