{
 "cells": [
  {
   "cell_type": "code",
   "execution_count": 4,
   "id": "eebefa63-893f-4e59-b518-4e5b1c5924d1",
   "metadata": {},
   "outputs": [],
   "source": [
    "#from file_name import Class_name\n",
    "from multipleFunctions import multiplefunction"
   ]
  },
  {
   "cell_type": "code",
   "execution_count": 6,
   "id": "8852b2d1-0259-4058-bd7e-e940479d1d74",
   "metadata": {},
   "outputs": [
    {
     "name": "stdin",
     "output_type": "stream",
     "text": [
      "Enter a number:  2\n"
     ]
    },
    {
     "name": "stdout",
     "output_type": "stream",
     "text": [
      "2  is Even number \n"
     ]
    },
    {
     "data": {
      "text/plain": [
       "(2, ' is Even number ')"
      ]
     },
     "execution_count": 6,
     "metadata": {},
     "output_type": "execute_result"
    }
   ],
   "source": [
    "#class_Name.function_name\n",
    "multiplefunction.oddeven() "
   ]
  },
  {
   "cell_type": "code",
   "execution_count": 7,
   "id": "b666b959-8d21-4d51-824f-dc8e0791475a",
   "metadata": {},
   "outputs": [
    {
     "name": "stdin",
     "output_type": "stream",
     "text": [
      "Enter Your Gender:  male\n",
      " Your Age:  23\n"
     ]
    },
    {
     "name": "stdout",
     "output_type": "stream",
     "text": [
      "ELIGIBLE\n"
     ]
    },
    {
     "data": {
      "text/plain": [
       "'ELIGIBLE'"
      ]
     },
     "execution_count": 7,
     "metadata": {},
     "output_type": "execute_result"
    }
   ],
   "source": [
    "multiplefunction.marriage()"
   ]
  },
  {
   "cell_type": "code",
   "execution_count": 8,
   "id": "ebf11377-c960-40bb-bf4c-6c4a1a9af66a",
   "metadata": {},
   "outputs": [
    {
     "name": "stdin",
     "output_type": "stream",
     "text": [
      "Subject1=  78\n",
      "Subject2=  65\n",
      "Subject3=  95\n",
      "Subject4=  32\n",
      "Subject5=  12\n"
     ]
    },
    {
     "name": "stdout",
     "output_type": "stream",
     "text": [
      "Total =  282.0\n",
      "Percentage :  56.4\n"
     ]
    },
    {
     "data": {
      "text/plain": [
       "56.4"
      ]
     },
     "execution_count": 8,
     "metadata": {},
     "output_type": "execute_result"
    }
   ],
   "source": [
    "multiplefunction.percentage()"
   ]
  },
  {
   "cell_type": "code",
   "execution_count": 10,
   "id": "c0b3a563-deaa-4ea3-91b3-381bb6471213",
   "metadata": {},
   "outputs": [
    {
     "name": "stdin",
     "output_type": "stream",
     "text": [
      "Height:  78\n",
      "Breadth:  6\n"
     ]
    },
    {
     "name": "stdout",
     "output_type": "stream",
     "text": [
      "Area of Triangle:   234.0\n"
     ]
    },
    {
     "name": "stdin",
     "output_type": "stream",
     "text": [
      "Height 1:  69\n",
      "Height 2:  36\n",
      "Breadth 1:  21\n"
     ]
    },
    {
     "name": "stdout",
     "output_type": "stream",
     "text": [
      "Perimeter formula: Height1+Height2+Breadth1\n",
      "Perimeter of Triangle:   126.0\n",
      "Area of Triangle:   234.0\n"
     ]
    },
    {
     "ename": "NameError",
     "evalue": "name 'triangle' is not defined",
     "output_type": "error",
     "traceback": [
      "\u001b[1;31m---------------------------------------------------------------------------\u001b[0m",
      "\u001b[1;31mNameError\u001b[0m                                 Traceback (most recent call last)",
      "Cell \u001b[1;32mIn[10], line 1\u001b[0m\n\u001b[1;32m----> 1\u001b[0m multiplefunction\u001b[38;5;241m.\u001b[39mtriangle()\n",
      "File \u001b[1;32mE:\\Hope\\AI Course\\Python\\multipleFunctions.py:54\u001b[0m, in \u001b[0;36mmultiplefunction.triangle\u001b[1;34m()\u001b[0m\n\u001b[0;32m     52\u001b[0m \u001b[38;5;28mprint\u001b[39m(\u001b[38;5;124m\"\u001b[39m\u001b[38;5;124mPerimeter of Triangle:  \u001b[39m\u001b[38;5;124m\"\u001b[39m,perimeter)\n\u001b[0;32m     53\u001b[0m \u001b[38;5;28mprint\u001b[39m(\u001b[38;5;124m\"\u001b[39m\u001b[38;5;124mArea of Triangle:  \u001b[39m\u001b[38;5;124m\"\u001b[39m, area)\n\u001b[1;32m---> 54\u001b[0m \u001b[38;5;28;01mreturn\u001b[39;00m triangle\n",
      "\u001b[1;31mNameError\u001b[0m: name 'triangle' is not defined"
     ]
    }
   ],
   "source": [
    "multiplefunction.triangle()"
   ]
  },
  {
   "cell_type": "code",
   "execution_count": 11,
   "id": "cafbd032-3a12-4546-b7bc-3ecda54a183f",
   "metadata": {},
   "outputs": [
    {
     "name": "stdout",
     "output_type": "stream",
     "text": [
      "Sub-fields in AI are: \n",
      "Machine Learning\n",
      "Neural Networks\n",
      "Vision\n",
      "Robotics\n",
      "Speech Processing\n",
      "Natural Language Processing\n"
     ]
    },
    {
     "ename": "NameError",
     "evalue": "name 'Subfields' is not defined",
     "output_type": "error",
     "traceback": [
      "\u001b[1;31m---------------------------------------------------------------------------\u001b[0m",
      "\u001b[1;31mNameError\u001b[0m                                 Traceback (most recent call last)",
      "Cell \u001b[1;32mIn[11], line 1\u001b[0m\n\u001b[1;32m----> 1\u001b[0m multiplefunction\u001b[38;5;241m.\u001b[39mSubfields()\n",
      "File \u001b[1;32mE:\\Hope\\AI Course\\Python\\multipleFunctions.py:8\u001b[0m, in \u001b[0;36mmultiplefunction.Subfields\u001b[1;34m()\u001b[0m\n\u001b[0;32m      6\u001b[0m     \u001b[38;5;28mprint\u001b[39m(SubfieldsInAI)\n\u001b[0;32m      7\u001b[0m     message \u001b[38;5;241m=\u001b[39m SubfieldsInAI\n\u001b[1;32m----> 8\u001b[0m \u001b[38;5;28;01mreturn\u001b[39;00m Subfields\n",
      "\u001b[1;31mNameError\u001b[0m: name 'Subfields' is not defined"
     ]
    }
   ],
   "source": [
    "multiplefunction.Subfields()"
   ]
  },
  {
   "cell_type": "code",
   "execution_count": null,
   "id": "da94fc94-de7a-48b6-b8b8-b33d96165233",
   "metadata": {},
   "outputs": [],
   "source": []
  }
 ],
 "metadata": {
  "kernelspec": {
   "display_name": "Python 3 (ipykernel)",
   "language": "python",
   "name": "python3"
  },
  "language_info": {
   "codemirror_mode": {
    "name": "ipython",
    "version": 3
   },
   "file_extension": ".py",
   "mimetype": "text/x-python",
   "name": "python",
   "nbconvert_exporter": "python",
   "pygments_lexer": "ipython3",
   "version": "3.12.7"
  }
 },
 "nbformat": 4,
 "nbformat_minor": 5
}
