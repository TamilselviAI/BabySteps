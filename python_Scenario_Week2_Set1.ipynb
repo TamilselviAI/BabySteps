{
 "cells": [
  {
   "cell_type": "code",
   "execution_count": 9,
   "id": "9b402d26-7f32-4796-8721-6a695b2f33ab",
   "metadata": {},
   "outputs": [
    {
     "name": "stdin",
     "output_type": "stream",
     "text": [
      "Enter the age =  25\n"
     ]
    },
    {
     "name": "stdout",
     "output_type": "stream",
     "text": [
      "Eligible for Voting\n"
     ]
    }
   ],
   "source": [
    "#1. A system checks if a user is eligible to vote based on their age.\n",
    "\n",
    "age = int(input(\"Enter the age = \"))\n",
    "if (age >18):\n",
    "    print(\"Eligible for Voting\")\n",
    "else:\n",
    "    print(\"Not Eligible for voting\")\n",
    "              "
   ]
  },
  {
   "cell_type": "code",
   "execution_count": 16,
   "id": "fed71e44-a53f-4be4-9295-aafb256ae4e8",
   "metadata": {},
   "outputs": [
    {
     "name": "stdout",
     "output_type": "stream",
     "text": [
      "[90, 66, 55, 48, 12, 12, 8]\n",
      "The largest Num is : : 90\n"
     ]
    }
   ],
   "source": [
    "# 2. A program processes a list of numbers and needs to find the largest value.\n",
    "\n",
    "num =[12,8,55,90,66,48,12]\n",
    "num.sort(reverse=True)\n",
    "print(num)\n",
    "print(\"The largest Num is : :\",num[0])\n"
   ]
  },
  {
   "cell_type": "code",
   "execution_count": 19,
   "id": "65db9522-eb49-4b45-aeff-3e3e696cf690",
   "metadata": {},
   "outputs": [
    {
     "name": "stdin",
     "output_type": "stream",
     "text": [
      "Enter the salary :  1250\n"
     ]
    },
    {
     "name": "stdout",
     "output_type": "stream",
     "text": [
      "Sorry No Bonus\n"
     ]
    }
   ],
   "source": [
    "#3. A company provides employees with a 10% bonus if their salary exceeds $50,000.\n",
    "\n",
    "salary = int(input(\"Enter the salary : \"))\n",
    "if (salary > 50000):\n",
    "    bonus= (0.1 * 50000)\n",
    "    print (\" Your Bonus is : \" ,bonus)\n",
    "else:\n",
    "    print(\"Sorry No Bonus\")"
   ]
  },
  {
   "cell_type": "code",
   "execution_count": 20,
   "id": "00204635-e5ab-4feb-8986-545b3219d339",
   "metadata": {},
   "outputs": [
    {
     "name": "stdin",
     "output_type": "stream",
     "text": [
      "Enter the Number :  45\n"
     ]
    },
    {
     "name": "stdout",
     "output_type": "stream",
     "text": [
      "The number is odd \n"
     ]
    }
   ],
   "source": [
    "#4. A program evaluates a number to determine if it is even or odd.\n",
    "\n",
    "num = int(input(\"Enter the Number : \"))\n",
    "if ((num % 2 )==0):\n",
    "    print(\"The number is Even \")\n",
    "else:\n",
    "    print(\"The number is odd \")"
   ]
  },
  {
   "cell_type": "code",
   "execution_count": 26,
   "id": "3e139d24-42b8-4c39-82eb-d1d56583612d",
   "metadata": {},
   "outputs": [
    {
     "name": "stdin",
     "output_type": "stream",
     "text": [
      "Enter the word :  tamil\n"
     ]
    },
    {
     "name": "stdout",
     "output_type": "stream",
     "text": [
      "limat\n"
     ]
    }
   ],
   "source": [
    "#5. A text-processing tool reverses a given word or sentence for formatting purposes.\n",
    "\n",
    "word = input(\"Enter the word : \")\n",
    "txt = word[::-1]\n",
    "print(txt)"
   ]
  },
  {
   "cell_type": "code",
   "execution_count": 29,
   "id": "499ea7a3-053f-4905-82fb-8da11cafed30",
   "metadata": {},
   "outputs": [
    {
     "name": "stdin",
     "output_type": "stream",
     "text": [
      "Enter the Marks :  45\n"
     ]
    },
    {
     "name": "stdout",
     "output_type": "stream",
     "text": [
      "Student has passed\n"
     ]
    }
   ],
   "source": [
    "#6. txt = A grading system determines whether a student has passed or failed based on their score\n",
    "marks = float(input(\"Enter the Marks : \"))\n",
    "if (marks>40):\n",
    "    print(\"Student has passed\")\n",
    "else:\n",
    "    print(\"Student failed\")\n",
    "              \n"
   ]
  },
  {
   "cell_type": "code",
   "execution_count": 33,
   "id": "c4307f6d-cfd7-463a-9737-12ef47a1f07b",
   "metadata": {},
   "outputs": [
    {
     "name": "stdin",
     "output_type": "stream",
     "text": [
      "Enter the price :  1000\n"
     ]
    },
    {
     "name": "stdout",
     "output_type": "stream",
     "text": [
      "Discounted price :  800.0\n"
     ]
    }
   ],
   "source": [
    "#7. A retail store offers a 20% discount if a customer’s total order exceeds $100.\n",
    "price = float(input(\"Enter the price : \"))\n",
    "if (price >100):\n",
    "    discount = (0.2*price)\n",
    "    discount_price = price-discount\n",
    "    print (\"Discounted price : \" ,discount_price)\n",
    "else:\n",
    "    print (\"Original Price : \",price)"
   ]
  },
  {
   "cell_type": "code",
   "execution_count": 36,
   "id": "2050c12e-c320-4fb2-a138-f58e3f85a193",
   "metadata": {},
   "outputs": [
    {
     "name": "stdin",
     "output_type": "stream",
     "text": [
      "Enter the required amount :  1000\n",
      "Bank Balance is :  200\n"
     ]
    },
    {
     "name": "stdout",
     "output_type": "stream",
     "text": [
      "You cannot Withdraw amount and your balance is : 200.0\n"
     ]
    }
   ],
   "source": [
    "#8. A banking system processes withdrawal requests and ensures the user has enough balance\n",
    "\n",
    "withdraw = float(input (\"Enter the required amount : \"))\n",
    "bankbal = float(input(\"Bank Balance is : \"))\n",
    "if (withdraw < bankbal):\n",
    "    print(\"You can Withdraw amount\")\n",
    "    currbal = bankbal - withdraw\n",
    "    print(\"Your Account Balance is : \",currbal)\n",
    "else:\n",
    "    print(\"You cannot Withdraw amount and your balance is :\", bankbal)"
   ]
  },
  {
   "cell_type": "code",
   "execution_count": 42,
   "id": "57410224-ea81-4bab-9fcd-5eecd219e91f",
   "metadata": {},
   "outputs": [
    {
     "name": "stdin",
     "output_type": "stream",
     "text": [
      "Enter the year :  2001\n"
     ]
    },
    {
     "name": "stdout",
     "output_type": "stream",
     "text": [
      "The given year is not leap year\n"
     ]
    }
   ],
   "source": [
    "#9. : A calendar system verifies whether a given year is a leap year based on standard leap year rules\n",
    "year = int(input(\"Enter the year : \"))\n",
    "if((year % 4 )==0):\n",
    "    print(\"The given year is Leap year\")\n",
    "else:\n",
    "    print(\"The given year is not leap year\")\n"
   ]
  },
  {
   "cell_type": "code",
   "execution_count": 43,
   "id": "0f89d5ed-0957-4514-a41e-95eef6164b41",
   "metadata": {},
   "outputs": [
    {
     "name": "stdout",
     "output_type": "stream",
     "text": [
      "12\n",
      "8\n",
      "90\n",
      "66\n",
      "48\n",
      "12\n"
     ]
    }
   ],
   "source": [
    "#10. A program filters out only even numbers from a given list.\n",
    "\n",
    "num =[12,8,55,90,66,48,12]\n",
    "for list in num:\n",
    "    if((list % 2)==0):\n",
    "        print(list)"
   ]
  },
  {
   "cell_type": "code",
   "execution_count": null,
   "id": "584e681f-f46c-454f-bd55-46a63f4e6511",
   "metadata": {},
   "outputs": [],
   "source": []
  }
 ],
 "metadata": {
  "kernelspec": {
   "display_name": "Python 3 (ipykernel)",
   "language": "python",
   "name": "python3"
  },
  "language_info": {
   "codemirror_mode": {
    "name": "ipython",
    "version": 3
   },
   "file_extension": ".py",
   "mimetype": "text/x-python",
   "name": "python",
   "nbconvert_exporter": "python",
   "pygments_lexer": "ipython3",
   "version": "3.12.7"
  }
 },
 "nbformat": 4,
 "nbformat_minor": 5
}
