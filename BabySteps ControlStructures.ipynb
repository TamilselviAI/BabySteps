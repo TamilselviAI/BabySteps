{
 "cells": [
  {
   "cell_type": "code",
   "execution_count": 6,
   "id": "e7fb5794-d608-4ae2-adeb-8411935b9ed0",
   "metadata": {},
   "outputs": [
    {
     "name": "stdout",
     "output_type": "stream",
     "text": [
      "thanukani\n"
     ]
    }
   ],
   "source": [
    "print(\"thanukani\")"
   ]
  },
  {
   "cell_type": "code",
   "execution_count": 5,
   "id": "3df2ae48-a18c-4861-9d25-de3f1731879e",
   "metadata": {},
   "outputs": [
    {
     "name": "stdout",
     "output_type": "stream",
     "text": [
      "Welcome to Assignment-1\n"
     ]
    }
   ],
   "source": [
    "print(\"Welcome to Assignment-1\")"
   ]
  },
  {
   "cell_type": "code",
   "execution_count": 4,
   "id": "66316045-27f0-40e6-8949-235f090ec888",
   "metadata": {
    "scrolled": true
   },
   "outputs": [
    {
     "name": "stdout",
     "output_type": "stream",
     "text": [
      "Num1=  10\n",
      "Num2=  30\n",
      "Add=  40\n"
     ]
    }
   ],
   "source": [
    "num1=10\n",
    "num2=30\n",
    "add=num1+num2\n",
    "print(\"Num1= \", num1)\n",
    "print(\"Num2= \", num2)\n",
    "print(\"Add= \", add)"
   ]
  },
  {
   "cell_type": "code",
   "execution_count": null,
   "id": "2f2f0e90-6fac-4c0d-b90c-3bc293e5bd67",
   "metadata": {},
   "outputs": [],
   "source": [
    "#Body Mass Index"
   ]
  },
  {
   "cell_type": "code",
   "execution_count": 7,
   "id": "be41d6bd-da51-4b0d-82ef-3fbacd018bde",
   "metadata": {},
   "outputs": [
    {
     "name": "stdin",
     "output_type": "stream",
     "text": [
      "Enter the BMI Index :  26\n"
     ]
    },
    {
     "name": "stdout",
     "output_type": "stream",
     "text": [
      "OverWeight\n"
     ]
    }
   ],
   "source": [
    "bmi = float(input(\"Enter the BMI Index : \"))\n",
    "if (bmi < 18.5):\n",
    "    print(\"UnderWeight\")\n",
    "elif (18.5 <= bmi <25):\n",
    "    print (\"Normal Weight\")\n",
    "elif (25 <= bmi < 30):\n",
    "    print (\"OverWeight\")\n",
    "else:\n",
    "    print (\"Very Overweight\")"
   ]
  },
  {
   "cell_type": "code",
   "execution_count": null,
   "id": "48e9f6e8-d480-423b-a82a-d7d2df3f7acb",
   "metadata": {},
   "outputs": [],
   "source": []
  }
 ],
 "metadata": {
  "kernelspec": {
   "display_name": "Python 3 (ipykernel)",
   "language": "python",
   "name": "python3"
  },
  "language_info": {
   "codemirror_mode": {
    "name": "ipython",
    "version": 3
   },
   "file_extension": ".py",
   "mimetype": "text/x-python",
   "name": "python",
   "nbconvert_exporter": "python",
   "pygments_lexer": "ipython3",
   "version": "3.12.7"
  }
 },
 "nbformat": 4,
 "nbformat_minor": 5
}
