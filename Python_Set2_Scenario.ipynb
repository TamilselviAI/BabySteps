{
 "cells": [
  {
   "cell_type": "code",
   "execution_count": 1,
   "id": "edf0e6fb-e123-4bcc-aebf-c85a360a5e53",
   "metadata": {},
   "outputs": [
    {
     "name": "stdin",
     "output_type": "stream",
     "text": [
      " Enter the amount -78\n"
     ]
    },
    {
     "name": "stdout",
     "output_type": "stream",
     "text": [
      "Amount is negative \n"
     ]
    }
   ],
   "source": [
    "#1.  You are developing a banking application that categorizes transactions based on the amount entered. \n",
    "# Write logic to determine whether the amount is positive, negative, or zero.\n",
    "amount = int(input(\" Enter the amount\"))\n",
    "if (amount>0):\n",
    "    print(\" Amount is positive\")\n",
    "elif (amount < 0):\n",
    "    print(\"Amount is negative \")\n",
    "else:\n",
    "    print(\"Amount is zero\")"
   ]
  },
  {
   "cell_type": "code",
   "execution_count": 19,
   "id": "4deac1cb-00ba-4214-8ed5-880dccb0961b",
   "metadata": {},
   "outputs": [
    {
     "name": "stdin",
     "output_type": "stream",
     "text": [
      "Enter Passcode :  89\n"
     ]
    },
    {
     "name": "stdout",
     "output_type": "stream",
     "text": [
      "17\n"
     ]
    }
   ],
   "source": [
    "#2. A digital locker requires users to enter a numerical passcode. As part of a security feature, the system checks the sum of the digits of the passcode.\n",
    "# Write logic to compute the sum of the digits of a given number\n",
    "\n",
    "passcode = input(\"Enter Passcode : \")\n",
    "sum = 0\n",
    "for i in passcode:\n",
    "    sum = sum + int(i)\n",
    "print(sum)"
   ]
  },
  {
   "cell_type": "code",
   "execution_count": 4,
   "id": "8a316f64-541f-41d6-8ace-266ba0a48f9e",
   "metadata": {},
   "outputs": [
    {
     "name": "stdin",
     "output_type": "stream",
     "text": [
      "Enter the Transaction ID : 987654\n"
     ]
    },
    {
     "name": "stdout",
     "output_type": "stream",
     "text": [
      "987654\n",
      "456789\n"
     ]
    }
   ],
   "source": [
    "#3. A mobile payment app uses a simple checksum validation where reversing a transaction ID helps detect fraud\n",
    "transactionid= input(\"Enter the Transaction ID :\")\n",
    "transstr = str(transactionid)\n",
    "print(transstr)\n",
    "reversed_string = transstr[::-1]\n",
    "print(reversed_string)"
   ]
  },
  {
   "cell_type": "code",
   "execution_count": 30,
   "id": "9257ff95-6740-43f9-8cd5-bdebfbe88c22",
   "metadata": {},
   "outputs": [
    {
     "name": "stdin",
     "output_type": "stream",
     "text": [
      "Enter the CustID : 99\n"
     ]
    },
    {
     "name": "stdout",
     "output_type": "stream",
     "text": [
      "99 is not a prime number\n"
     ]
    }
   ],
   "source": [
    "#4. In a secure login system, certain features are enabled only for users with prime-numbered user IDs\n",
    "Cust_ID = int(input(\"Enter the CustID :\"))\n",
    "def is_prime(n):\n",
    "    if n < 2:\n",
    "        return False\n",
    "    for i in range(2, int(n ** 0.5) + 1):\n",
    "        if n % i == 0:\n",
    "            return False\n",
    "    return True\n",
    "num = Cust_ID\n",
    "if is_prime(num):\n",
    "    print(f\"{num} is a prime number\")\n",
    "else:\n",
    "    print(f\"{num} is not a prime number\")"
   ]
  },
  {
   "cell_type": "code",
   "execution_count": 32,
   "id": "3292d68c-19dd-4c9d-b2e5-173820905997",
   "metadata": {},
   "outputs": [
    {
     "name": "stdin",
     "output_type": "stream",
     "text": [
      "Enter the number : 5\n"
     ]
    },
    {
     "name": "stdout",
     "output_type": "stream",
     "text": [
      "120\n"
     ]
    }
   ],
   "source": [
    "#5. A scientist is working on permutations and needs to calculate the factorial of numbers frequently.\n",
    "# Write logic to find the factorial of a given number using recursion.\n",
    "n = int(input(\"Enter the number :\"))\n",
    "def factorial(n):\n",
    "    result = 1\n",
    "    for i in range(1, n+1):\n",
    "        result *= i\n",
    "    return result\n",
    "print(factorial(n))\n"
   ]
  },
  {
   "cell_type": "code",
   "execution_count": 49,
   "id": "ac1d0a93-6241-4279-8588-c8c25e2b6a53",
   "metadata": {},
   "outputs": [
    {
     "name": "stdin",
     "output_type": "stream",
     "text": [
      "ENter the NUmber : 153\n"
     ]
    },
    {
     "name": "stdout",
     "output_type": "stream",
     "text": [
      "153 is an Armstrong number\n"
     ]
    }
   ],
   "source": [
    "#6. A unique lottery system assigns ticket numbers where only Armstrong numbers win the jackpot.\n",
    "# Write logic to check whether a given number is an Armstrong number.\n",
    "\n",
    "def is_armstrong(num):\n",
    "    num_str = str(num)\n",
    "    num_digits = len(num_str)\n",
    "    total = 0\n",
    "    for digit in num_str:\n",
    "        total += int(digit) ** num_digits\n",
    "    return total == num\n",
    "number = int(input(\"ENter the NUmber :\"))\n",
    "if is_armstrong(number):\n",
    "    print(f\"{number} is an Armstrong number\")\n",
    "else:\n",
    "    print(f\"{number} is not an Armstrong number\")"
   ]
  },
  {
   "cell_type": "code",
   "execution_count": 58,
   "id": "ac153ae5-4174-46db-b9cd-e080277f33e8",
   "metadata": {},
   "outputs": [
    {
     "name": "stdin",
     "output_type": "stream",
     "text": [
      "Enter the password :  tamil\n"
     ]
    },
    {
     "name": "stdout",
     "output_type": "stream",
     "text": [
      "Your Password is : lamit\n"
     ]
    }
   ],
   "source": [
    "# 7. A password manager needs to strengthen weak passwords by swapping the first and last characters of user-generated passwords.\n",
    "# Write logic to perform this operation on a given string.\n",
    "password = input(\"Enter the password : \")\n",
    "str_pwd = str(password)\n",
    "len_pwd = len(str_pwd)\n",
    "if (len_pwd < 2):\n",
    "    print (\"Your Password is : \", password)\n",
    "elif (len_pwd > 2):\n",
    "    first_char = password[0]\n",
    "    last_char =  password[-1]\n",
    "    middle_chars = password[1:-1]\n",
    "    print (\"Your Password is :\", last_char + middle_chars + first_char)\n",
    "\n"
   ]
  },
  {
   "cell_type": "code",
   "execution_count": 62,
   "id": "98eaf838-d0cf-4a05-93ae-e43ab3afb9a8",
   "metadata": {},
   "outputs": [
    {
     "name": "stdin",
     "output_type": "stream",
     "text": [
      "Enter the decimal Number :  12\n"
     ]
    },
    {
     "name": "stdout",
     "output_type": "stream",
     "text": [
      "Binary Number is : 0b1100\n"
     ]
    }
   ],
   "source": [
    "#8. A low-level networking application requires decimal numbers to be converted into binary format before transmission.\n",
    "# Write logic to convert a given decimal number into its binary equivalent.\n",
    "\n",
    "dec_num = int(input(\"Enter the decimal Number : \"))\n",
    "binary_num = bin(dec_num)\n",
    "print(\"Binary Number is :\", binary_num)\n"
   ]
  },
  {
   "cell_type": "code",
   "execution_count": null,
   "id": "006923fe-f3d1-4965-844e-7df05a71f95e",
   "metadata": {},
   "outputs": [],
   "source": []
  },
  {
   "cell_type": "code",
   "execution_count": 82,
   "id": "b5344e31-10e2-44ec-ab5f-f64729dfeee6",
   "metadata": {},
   "outputs": [
    {
     "name": "stdin",
     "output_type": "stream",
     "text": [
      "Sentence :  cghjbk fygjh yfdy ygcd\n"
     ]
    },
    {
     "name": "stdout",
     "output_type": "stream",
     "text": [
      "cghjbk\n"
     ]
    }
   ],
   "source": [
    "#9. A text-processing tool helps summarize articles by identifying the most significant words.\n",
    "# Write logic to find the longest word in a sentence\n",
    "\n",
    "sentence = input(\"Sentence : \")\n",
    "separate = sentence.split(\" \")\n",
    "res = \"\"\n",
    "for word in separate:\n",
    "    if len(word) > len(res):\n",
    "        res= word\n",
    "print(res)"
   ]
  },
  {
   "cell_type": "code",
   "execution_count": 86,
   "id": "67e0ba53-152b-48d5-a8de-9ab4cc37f8d5",
   "metadata": {},
   "outputs": [
    {
     "name": "stdin",
     "output_type": "stream",
     "text": [
      "Enter the Word1 : race\n",
      "Enter the Word2 : care\n"
     ]
    },
    {
     "name": "stdout",
     "output_type": "stream",
     "text": [
      "['a', 'c', 'e', 'r']\n",
      "['a', 'c', 'e', 'r']\n",
      "Given Words are Anagrams\n"
     ]
    }
   ],
   "source": [
    "#10. A plagiarism detection tool compares words from different documents and checks if they are anagrams (same characters but different order).\n",
    "# Write logic to check whether two given strings are anagrams.\n",
    "\n",
    "word1 = input(\"Enter the Word1 :\")\n",
    "word2 = input(\"Enter the Word2 :\")\n",
    "sorted_word1 = sorted(word1)\n",
    "print(sorted_word1)\n",
    "sorted_word2 = sorted(word2)\n",
    "print(sorted_word2)\n",
    "if (sorted_word1 == sorted_word2):\n",
    "    print(\"Given Words are Anagrams\")\n",
    "else:\n",
    "    print(\"Not Anagrams Words\")\n",
    "\n"
   ]
  },
  {
   "cell_type": "code",
   "execution_count": null,
   "id": "a594d7a3-0905-4bd4-89d3-fcb17b091cb0",
   "metadata": {},
   "outputs": [],
   "source": []
  }
 ],
 "metadata": {
  "kernelspec": {
   "display_name": "Python 3 (ipykernel)",
   "language": "python",
   "name": "python3"
  },
  "language_info": {
   "codemirror_mode": {
    "name": "ipython",
    "version": 3
   },
   "file_extension": ".py",
   "mimetype": "text/x-python",
   "name": "python",
   "nbconvert_exporter": "python",
   "pygments_lexer": "ipython3",
   "version": "3.12.7"
  }
 },
 "nbformat": 4,
 "nbformat_minor": 5
}
