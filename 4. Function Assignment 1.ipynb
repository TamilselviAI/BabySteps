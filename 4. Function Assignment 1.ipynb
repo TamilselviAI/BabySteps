{
 "cells": [
  {
   "cell_type": "code",
   "execution_count": null,
   "id": "6d647d54-10e3-411f-be1b-8683d3413f4c",
   "metadata": {},
   "outputs": [],
   "source": [
    "def add(a,b):\n",
    "    addition=a+b\n",
    "    return addition"
   ]
  },
  {
   "cell_type": "code",
   "execution_count": 33,
   "id": "69425ca4-493b-4832-986d-910408f39459",
   "metadata": {
    "scrolled": true
   },
   "outputs": [],
   "source": [
    "# Create a class and function, and list out the items in the list\n",
    "\n",
    "def Agecate():\n",
    "    if (age < 18):\n",
    "        print(\"Minor\")\n",
    "        \n",
    "    elif (18 < age < 60):\n",
    "        cate =\"Adult\"\n",
    "    else:\n",
    "        cate =\"Senior Citizen\"\n",
    "    "
   ]
  },
  {
   "cell_type": "code",
   "execution_count": 34,
   "id": "5bb8be05-051f-4b58-8ba6-accd545a55b2",
   "metadata": {},
   "outputs": [
    {
     "name": "stdin",
     "output_type": "stream",
     "text": [
      "Enter Age : 78\n"
     ]
    }
   ],
   "source": [
    "age = int(input(\"Enter Age :\" ))\n",
    "agecategory= Agecate()"
   ]
  },
  {
   "cell_type": "code",
   "execution_count": 31,
   "id": "34ed4a4c-ad14-4c3c-821f-b851eab11baa",
   "metadata": {},
   "outputs": [],
   "source": [
    "def Subfields():\n",
    "    fields = [\"Machine Learning\",\"Neural Networks\",\"Vision\",\"Robotics\",\"Speech Processing\",\"Natural Language Processing\"]\n",
    "    print(\"Sub-fields in AI are: \")\n",
    "    for SubfieldsInAI in fields:\n",
    "        print(SubfieldsInAI)   \n",
    "    return Subfields"
   ]
  },
  {
   "cell_type": "code",
   "execution_count": 32,
   "id": "00a42e59-6f09-4dec-afeb-df7a51d894d8",
   "metadata": {},
   "outputs": [
    {
     "name": "stdout",
     "output_type": "stream",
     "text": [
      "Sub-fields in AI are: \n",
      "Machine Learning\n",
      "Neural Networks\n",
      "Vision\n",
      "Robotics\n",
      "Speech Processing\n",
      "Natural Language Processing\n"
     ]
    }
   ],
   "source": [
    "flds = Subfields()"
   ]
  },
  {
   "cell_type": "code",
   "execution_count": 10,
   "id": "baea5f95-7ae4-4d39-a448-e20dc40604f7",
   "metadata": {},
   "outputs": [],
   "source": [
    "# Create a function that checks whether the given number is Odd or Even\n",
    "def oddeven():\n",
    "    num = int(input(\"Enter a number: \"))\n",
    "    if ((num % 2 == 0)):\n",
    "        print(num,\" is Even number \")\n",
    "        message = num,\" is Even number \"\n",
    "    else:\n",
    "        print(num,\" is Odd number \")\n",
    "        message = num,\" is Odd number \"\n",
    "    return message"
   ]
  },
  {
   "cell_type": "code",
   "execution_count": 11,
   "id": "5c34df7e-1279-4dc8-8e0b-fe14a65a0a2b",
   "metadata": {},
   "outputs": [
    {
     "name": "stdin",
     "output_type": "stream",
     "text": [
      "Enter a number:  78\n"
     ]
    },
    {
     "name": "stdout",
     "output_type": "stream",
     "text": [
      "78  is Even number \n"
     ]
    }
   ],
   "source": [
    "message=oddeven()"
   ]
  },
  {
   "cell_type": "code",
   "execution_count": 12,
   "id": "fa6e93da-b166-4c55-9655-514ed00d8779",
   "metadata": {},
   "outputs": [],
   "source": [
    "# Create a function that tells elegibility of marriage for male and female according to their age limit like 21 for male and 18 for female\n",
    "def marriage():\n",
    "    gender=input(\"Enter Your Gender: \")\n",
    "    age =int(input(\" Your Age: \"))\n",
    "    if((age>21) and (gender ==\"male\")):\n",
    "        print(\"ELIGIBLE\")\n",
    "        mrg=\"ELIGIBLE\"\n",
    "    elif((age>18) and (gender==\"female\")):\n",
    "        print(\"ELIGIBLE\")\n",
    "        mrg=\"ELIGIBLE\"\n",
    "    else:\n",
    "        print(\"NOT ELIGIBLE\") \n",
    "        mrg=\"NOT ELIGIBLE\"\n",
    "    return mrg"
   ]
  },
  {
   "cell_type": "code",
   "execution_count": 13,
   "id": "5839c5b4-dbdf-475e-8e6d-5c3a296e2077",
   "metadata": {},
   "outputs": [
    {
     "name": "stdin",
     "output_type": "stream",
     "text": [
      "Enter Your Gender:  male\n",
      " Your Age:  10\n"
     ]
    },
    {
     "name": "stdout",
     "output_type": "stream",
     "text": [
      "NOT ELIGIBLE\n"
     ]
    }
   ],
   "source": [
    "eligiblity=marriage()"
   ]
  },
  {
   "cell_type": "code",
   "execution_count": 14,
   "id": "af994a92-4eb0-48f4-93d4-926be68b6c70",
   "metadata": {},
   "outputs": [],
   "source": [
    "# calculate the percentage of your 10th mark \n",
    "def percentage():\n",
    "    subject1= float(input(\"Subject1= \")),\n",
    "    subject2= float(input(\"Subject2= \")) ,           \n",
    "    subject3= float(input(\"Subject3= \")),\n",
    "    subject4= float(input(\"Subject4= \")),\n",
    "    subject5= float(input(\"Subject5= \")),\n",
    "    total = sum(subject1+subject2+subject3+subject4+subject5)\n",
    "    percentage= float(total / 5)\n",
    "    print(\"Total = \", total)\n",
    "    print(\"Percentage : \",percentage)\n",
    "    return percentage\n"
   ]
  },
  {
   "cell_type": "code",
   "execution_count": 15,
   "id": "de115aa4-5258-4edb-93ec-18bbaaf36d53",
   "metadata": {},
   "outputs": [
    {
     "name": "stdin",
     "output_type": "stream",
     "text": [
      "Subject1=  25\n",
      "Subject2=  35\n",
      "Subject3=  56\n",
      "Subject4=  54\n",
      "Subject5=  21\n"
     ]
    },
    {
     "name": "stdout",
     "output_type": "stream",
     "text": [
      "Total =  191.0\n",
      "Percentage :  38.2\n"
     ]
    }
   ],
   "source": [
    "FindPercent = percentage()"
   ]
  },
  {
   "cell_type": "code",
   "execution_count": 27,
   "id": "6e54ac99-7808-4d09-9cac-c293fefc08b3",
   "metadata": {},
   "outputs": [],
   "source": [
    "#print area and perimeter of triangle using class and functions \n",
    "    def triangle():\n",
    "        height=float(input(\"Height: \"))\n",
    "        breadth=float(input(\"Breadth: \"))\n",
    "        area= float((height*breadth)/2)\n",
    "        print(\"Area of Triangle:  \", area)\n",
    "        height1=float(input(\"Height 1: \")),\n",
    "        height2=float(input(\"Height 2: \")),\n",
    "        breadth1=float(input(\"Breadth 1: \")),\n",
    "        perimeter = sum(height1+height2+breadth1) \n",
    "        print(\"Perimeter formula: Height1+Height2+Breadth1\")\n",
    "        print(\"Perimeter of Triangle:  \",perimeter)\n",
    "        print(\"Area of Triangle:  \", area)\n",
    "        return triangle()\n"
   ]
  },
  {
   "cell_type": "code",
   "execution_count": 28,
   "id": "dc58a354-5f77-4f87-9f62-1da0658f76fb",
   "metadata": {},
   "outputs": [
    {
     "name": "stdin",
     "output_type": "stream",
     "text": [
      "Height:  4\n",
      "Breadth:  54\n"
     ]
    },
    {
     "name": "stdout",
     "output_type": "stream",
     "text": [
      "Area of Triangle:   108.0\n"
     ]
    },
    {
     "name": "stdin",
     "output_type": "stream",
     "text": [
      "Height 1:  5\n",
      "Height 2:  5\n",
      "Breadth 1:  5\n"
     ]
    },
    {
     "name": "stdout",
     "output_type": "stream",
     "text": [
      "Perimeter formula: Height1+Height2+Breadth1\n",
      "Perimeter of Triangle:   15.0\n",
      "Area of Triangle:   108.0\n"
     ]
    },
    {
     "data": {
      "text/plain": [
       "<__main__.triangle at 0x22bf78b7b30>"
      ]
     },
     "execution_count": 28,
     "metadata": {},
     "output_type": "execute_result"
    }
   ],
   "source": [
    "Triangles= triangle()"
   ]
  },
  {
   "cell_type": "code",
   "execution_count": null,
   "id": "15f4c8c1-b48d-41fe-a400-e59822122866",
   "metadata": {},
   "outputs": [],
   "source": []
  }
 ],
 "metadata": {
  "kernelspec": {
   "display_name": "Python 3 (ipykernel)",
   "language": "python",
   "name": "python3"
  },
  "language_info": {
   "codemirror_mode": {
    "name": "ipython",
    "version": 3
   },
   "file_extension": ".py",
   "mimetype": "text/x-python",
   "name": "python",
   "nbconvert_exporter": "python",
   "pygments_lexer": "ipython3",
   "version": "3.12.7"
  }
 },
 "nbformat": 4,
 "nbformat_minor": 5
}
